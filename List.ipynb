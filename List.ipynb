{
  "nbformat": 4,
  "nbformat_minor": 0,
  "metadata": {
    "colab": {
      "name": "List.ipynb",
      "provenance": [],
      "collapsed_sections": [],
      "authorship_tag": "ABX9TyNbZ/GnyZSQbq6seM19G5Pu",
      "include_colab_link": true
    },
    "kernelspec": {
      "name": "python3",
      "display_name": "Python 3"
    },
    "language_info": {
      "name": "python"
    }
  },
  "cells": [
    {
      "cell_type": "markdown",
      "metadata": {
        "id": "view-in-github",
        "colab_type": "text"
      },
      "source": [
        "<a href=\"https://colab.research.google.com/github/AshishSiwach/Python-Data-Structures/blob/main/List.ipynb\" target=\"_parent\"><img src=\"https://colab.research.google.com/assets/colab-badge.svg\" alt=\"Open In Colab\"/></a>"
      ]
    },
    {
      "cell_type": "markdown",
      "source": [
        "## **Lists**"
      ],
      "metadata": {
        "id": "YJ7hiF6_JLyn"
      }
    },
    {
      "cell_type": "code",
      "execution_count": 3,
      "metadata": {
        "colab": {
          "base_uri": "https://localhost:8080/"
        },
        "id": "TD1KoR8gJJsc",
        "outputId": "2c47fdd2-0f79-4b7b-eac4-84b1415d1288"
      },
      "outputs": [
        {
          "output_type": "execute_result",
          "data": {
            "text/plain": [
              "list"
            ]
          },
          "metadata": {},
          "execution_count": 3
        }
      ],
      "source": [
        "l = ['string', 'lists', 'dictionary', 'sets']\n",
        "type(l) # list data type"
      ]
    },
    {
      "cell_type": "code",
      "source": [
        "l[1]"
      ],
      "metadata": {
        "colab": {
          "base_uri": "https://localhost:8080/",
          "height": 35
        },
        "id": "bUOdNG0hLbDm",
        "outputId": "91855c35-ba90-4a9d-eb63-4ef945079a1b"
      },
      "execution_count": 4,
      "outputs": [
        {
          "output_type": "execute_result",
          "data": {
            "application/vnd.google.colaboratory.intrinsic+json": {
              "type": "string"
            },
            "text/plain": [
              "'lists'"
            ]
          },
          "metadata": {},
          "execution_count": 4
        }
      ]
    },
    {
      "cell_type": "code",
      "source": [
        "l[2]"
      ],
      "metadata": {
        "colab": {
          "base_uri": "https://localhost:8080/",
          "height": 35
        },
        "id": "Id4wBykLLvWv",
        "outputId": "fb96d931-9b43-4fce-e559-96fc75fa2f1d"
      },
      "execution_count": 5,
      "outputs": [
        {
          "output_type": "execute_result",
          "data": {
            "application/vnd.google.colaboratory.intrinsic+json": {
              "type": "string"
            },
            "text/plain": [
              "'dictionary'"
            ]
          },
          "metadata": {},
          "execution_count": 5
        }
      ]
    },
    {
      "cell_type": "code",
      "source": [
        "l[:4]"
      ],
      "metadata": {
        "colab": {
          "base_uri": "https://localhost:8080/"
        },
        "id": "ABMIxWCeLxnK",
        "outputId": "ed539e04-a107-4fe9-8390-a345c0b48be4"
      },
      "execution_count": 6,
      "outputs": [
        {
          "output_type": "execute_result",
          "data": {
            "text/plain": [
              "['string', 'lists', 'dictionary', 'sets']"
            ]
          },
          "metadata": {},
          "execution_count": 6
        }
      ]
    },
    {
      "cell_type": "code",
      "source": [
        "l[1:3]"
      ],
      "metadata": {
        "colab": {
          "base_uri": "https://localhost:8080/"
        },
        "id": "4wIIAsrWL14N",
        "outputId": "bcaec4c4-f5f7-4601-c4ae-257501296192"
      },
      "execution_count": 7,
      "outputs": [
        {
          "output_type": "execute_result",
          "data": {
            "text/plain": [
              "['lists', 'dictionary']"
            ]
          },
          "metadata": {},
          "execution_count": 7
        }
      ]
    },
    {
      "cell_type": "code",
      "source": [
        "l[-3:-1]"
      ],
      "metadata": {
        "colab": {
          "base_uri": "https://localhost:8080/"
        },
        "id": "yz14CdZyL5FL",
        "outputId": "4f0959d1-f2ec-4fe1-859d-14f975a9e769"
      },
      "execution_count": 9,
      "outputs": [
        {
          "output_type": "execute_result",
          "data": {
            "text/plain": [
              "['lists', 'dictionary']"
            ]
          },
          "metadata": {},
          "execution_count": 9
        }
      ]
    },
    {
      "cell_type": "code",
      "source": [
        "l = range(10)\n",
        "for i in l:\n",
        "  if i % 2 == 0:\n",
        "    print(i)"
      ],
      "metadata": {
        "colab": {
          "base_uri": "https://localhost:8080/"
        },
        "id": "okAH_LQiL9NX",
        "outputId": "618cbb27-fbb5-4970-9648-ba16393775d5"
      },
      "execution_count": 10,
      "outputs": [
        {
          "output_type": "stream",
          "name": "stdout",
          "text": [
            "0\n",
            "2\n",
            "4\n",
            "6\n",
            "8\n"
          ]
        }
      ]
    },
    {
      "cell_type": "code",
      "source": [
        "l = range(2, 20, 2)\n",
        "for i in l:\n",
        "  if i % 3 == 0:\n",
        "    print(i)\n",
        "  else:\n",
        "    print('Not Found')"
      ],
      "metadata": {
        "colab": {
          "base_uri": "https://localhost:8080/"
        },
        "id": "TdobYnsMMmy0",
        "outputId": "50c8332b-e70d-4c7c-d2db-0e21d7fcafa9"
      },
      "execution_count": 11,
      "outputs": [
        {
          "output_type": "stream",
          "name": "stdout",
          "text": [
            "Not Found\n",
            "Not Found\n",
            "6\n",
            "Not Found\n",
            "Not Found\n",
            "12\n",
            "Not Found\n",
            "Not Found\n",
            "18\n"
          ]
        }
      ]
    },
    {
      "cell_type": "code",
      "source": [
        "# adding elements to a list using extend\n",
        "# extend adds all elements of an iterable to the end of the list\n",
        "lst = ['a', 'b', 'c']\n",
        "lst.extend(['d', 'e', 'f'])\n",
        "lst"
      ],
      "metadata": {
        "colab": {
          "base_uri": "https://localhost:8080/"
        },
        "id": "hviCpMVENCyQ",
        "outputId": "220695e0-da85-4d74-a402-bd9d410a1d55"
      },
      "execution_count": 1,
      "outputs": [
        {
          "output_type": "execute_result",
          "data": {
            "text/plain": [
              "['a', 'b', 'c', 'd', 'e', 'f']"
            ]
          },
          "metadata": {},
          "execution_count": 1
        }
      ]
    },
    {
      "cell_type": "code",
      "source": [
        "lst.extend((1, 2, 3))\n",
        "lst"
      ],
      "metadata": {
        "colab": {
          "base_uri": "https://localhost:8080/"
        },
        "id": "UHQoCa5yTQTU",
        "outputId": "b282d08c-9d27-43b8-d66e-d172a8c09b5d"
      },
      "execution_count": 2,
      "outputs": [
        {
          "output_type": "execute_result",
          "data": {
            "text/plain": [
              "['a', 'b', 'c', 'd', 'e', 'f', 1, 2, 3]"
            ]
          },
          "metadata": {},
          "execution_count": 2
        }
      ]
    },
    {
      "cell_type": "code",
      "source": [
        "lst.append(True) # append adds an element to the end of the list\n",
        "lst"
      ],
      "metadata": {
        "colab": {
          "base_uri": "https://localhost:8080/"
        },
        "id": "JWnJHzCFTVmh",
        "outputId": "19f2e633-d488-4072-9c90-9713b47c4d05"
      },
      "execution_count": 3,
      "outputs": [
        {
          "output_type": "execute_result",
          "data": {
            "text/plain": [
              "['a', 'b', 'c', 'd', 'e', 'f', 1, 2, 3, True]"
            ]
          },
          "metadata": {},
          "execution_count": 3
        }
      ]
    },
    {
      "cell_type": "code",
      "source": [
        "lst.append(False)\n",
        "lst"
      ],
      "metadata": {
        "colab": {
          "base_uri": "https://localhost:8080/"
        },
        "id": "d-kvtw_BTa4M",
        "outputId": "5e3f81cd-f260-46cf-c9b2-179713831447"
      },
      "execution_count": 4,
      "outputs": [
        {
          "output_type": "execute_result",
          "data": {
            "text/plain": [
              "['a', 'b', 'c', 'd', 'e', 'f', 1, 2, 3, True, False]"
            ]
          },
          "metadata": {},
          "execution_count": 4
        }
      ]
    },
    {
      "cell_type": "code",
      "source": [
        "# update element of a list\n",
        "lst[0] = 'A'\n",
        "lst"
      ],
      "metadata": {
        "colab": {
          "base_uri": "https://localhost:8080/"
        },
        "id": "GzcfDf0wTjuV",
        "outputId": "d0ff4003-0b40-4fc0-fd11-1283c4644c83"
      },
      "execution_count": 5,
      "outputs": [
        {
          "output_type": "execute_result",
          "data": {
            "text/plain": [
              "['A', 'b', 'c', 'd', 'e', 'f', 1, 2, 3, True, False]"
            ]
          },
          "metadata": {},
          "execution_count": 5
        }
      ]
    },
    {
      "cell_type": "code",
      "source": [
        "# update fourth and fifth element of a list\n",
        "lst[3:5] = 'D', 'E'\n",
        "lst"
      ],
      "metadata": {
        "colab": {
          "base_uri": "https://localhost:8080/"
        },
        "id": "PS1whGp_T1Am",
        "outputId": "17a485c5-43a1-4e3a-dbde-b1a14f3dd5c3"
      },
      "execution_count": 6,
      "outputs": [
        {
          "output_type": "execute_result",
          "data": {
            "text/plain": [
              "['A', 'b', 'c', 'D', 'E', 'f', 1, 2, 3, True, False]"
            ]
          },
          "metadata": {},
          "execution_count": 6
        }
      ]
    },
    {
      "cell_type": "code",
      "source": [
        "# delete last element of the list\n",
        "del lst[-1]\n",
        "lst"
      ],
      "metadata": {
        "colab": {
          "base_uri": "https://localhost:8080/"
        },
        "id": "JXVA8yXJULDV",
        "outputId": "e44ba76f-e5ed-4ce9-e162-678d4e77e587"
      },
      "execution_count": 7,
      "outputs": [
        {
          "output_type": "execute_result",
          "data": {
            "text/plain": [
              "['A', 'b', 'c', 'D', 'E', 'f', 1, 2, 3, True]"
            ]
          },
          "metadata": {},
          "execution_count": 7
        }
      ]
    },
    {
      "cell_type": "code",
      "source": [
        "# using remove to delete an element by passing that element to remove function\n",
        "lst.remove(True)\n",
        "lst"
      ],
      "metadata": {
        "colab": {
          "base_uri": "https://localhost:8080/"
        },
        "id": "eaiDyLn0UYVl",
        "outputId": "0af1be89-843e-4ee4-92a7-d5f2f199e124"
      },
      "execution_count": 10,
      "outputs": [
        {
          "output_type": "execute_result",
          "data": {
            "text/plain": [
              "['A', 'b', 'c', 'D', 'E', 'f', 2, 3]"
            ]
          },
          "metadata": {},
          "execution_count": 10
        }
      ]
    },
    {
      "cell_type": "code",
      "source": [
        "# reverse method to get elements of a list in a reverse order\n",
        "lst.reverse()\n",
        "lst"
      ],
      "metadata": {
        "colab": {
          "base_uri": "https://localhost:8080/"
        },
        "id": "0fQlXtsAHpsG",
        "outputId": "5685840d-7c97-46c8-c0a3-fd699c71e703"
      },
      "execution_count": 15,
      "outputs": [
        {
          "output_type": "execute_result",
          "data": {
            "text/plain": [
              "[3, 2, 'f', 'E', 'D', 'c', 'b', 'A']"
            ]
          },
          "metadata": {},
          "execution_count": 15
        }
      ]
    },
    {
      "cell_type": "code",
      "source": [
        "# Concatenating Lists\n",
        "l1 = []\n",
        "l2 = []\n",
        "for i in range(5):\n",
        "  l1.append(i)\n",
        "for i in range(6, 10):\n",
        "  l2.append(i)\n",
        "l1 + l2"
      ],
      "metadata": {
        "colab": {
          "base_uri": "https://localhost:8080/"
        },
        "id": "T_1WY64wIIdr",
        "outputId": "8f6fc3aa-5ac7-40d3-b728-eb46c3ac5a6c"
      },
      "execution_count": 19,
      "outputs": [
        {
          "output_type": "execute_result",
          "data": {
            "text/plain": [
              "[0, 1, 2, 3, 4, 6, 7, 8, 9]"
            ]
          },
          "metadata": {},
          "execution_count": 19
        }
      ]
    },
    {
      "cell_type": "code",
      "source": [
        "a = [1, 2, 3, 4, 5]\n",
        "b = a # So now a and b are same lists\n",
        "print(a)\n",
        "print(b)\n",
        "a[0] = 10\n",
        "print('New a: ', a)\n",
        "print('New b: ', b)\n",
        "# So in this case when we updated a, b also got updated\n",
        "# Now let's create a deep copy of a\n",
        "c = a[:]\n",
        "print(c) # So c is same list as a\n",
        "# Now again update a\n",
        "a[0] = 100\n",
        "print('Latest a: ', a)\n",
        "print('Latest b: ', b)\n",
        "print('Latest c: ', c)\n",
        "# So here b changed again but c didn't change because it is a copy of a while b is referring to the same list a that is an alias of a"
      ],
      "metadata": {
        "colab": {
          "base_uri": "https://localhost:8080/"
        },
        "id": "E_UC1EfMJH5a",
        "outputId": "f4e70783-6ce8-459d-a3a2-060cc77d5c42"
      },
      "execution_count": 4,
      "outputs": [
        {
          "output_type": "stream",
          "name": "stdout",
          "text": [
            "[1, 2, 3, 4, 5]\n",
            "[1, 2, 3, 4, 5]\n",
            "New a:  [10, 2, 3, 4, 5]\n",
            "New b:  [10, 2, 3, 4, 5]\n",
            "[10, 2, 3, 4, 5]\n",
            "Latest a:  [100, 2, 3, 4, 5]\n",
            "Latest b:  [100, 2, 3, 4, 5]\n",
            "Latest c:  [10, 2, 3, 4, 5]\n"
          ]
        }
      ]
    },
    {
      "cell_type": "code",
      "source": [
        "# Summing the elements of the list\n",
        "a = [1, 2, 3, 4, 5]\n",
        "print(sum(a))\n",
        "b = [1,1,1,2,2,2,3]\n",
        "print(b.count(1)) # counts the number of occurrences of element in the count method\n",
        "b.pop() # Removes the last element from the list\n",
        "print(b)\n",
        "a.insert(5, 100) # Insert 100 at index 5\n",
        "print(a)\n",
        "a.sort()\n",
        "print(a)\n",
        "a.sort(reverse = True) # sorts the list in descending order\n",
        "print(a)"
      ],
      "metadata": {
        "colab": {
          "base_uri": "https://localhost:8080/"
        },
        "id": "kVSSSiOGUDeG",
        "outputId": "5d996159-51e0-4b59-c470-62567d1290a8"
      },
      "execution_count": 13,
      "outputs": [
        {
          "output_type": "stream",
          "name": "stdout",
          "text": [
            "15\n",
            "3\n",
            "[1, 1, 1, 2, 2, 2]\n",
            "[1, 2, 3, 4, 5, 100]\n",
            "[1, 2, 3, 4, 5, 100]\n",
            "[100, 5, 4, 3, 2, 1]\n"
          ]
        }
      ]
    },
    {
      "cell_type": "code",
      "source": [
        "a.clear() # deletes all elements from the list\n",
        "print(a)"
      ],
      "metadata": {
        "colab": {
          "base_uri": "https://localhost:8080/"
        },
        "id": "LMr-0xg1VpXb",
        "outputId": "fe9ac1ac-9e13-413e-e831-a1af4120e1d3"
      },
      "execution_count": 14,
      "outputs": [
        {
          "output_type": "stream",
          "name": "stdout",
          "text": [
            "[]\n"
          ]
        }
      ]
    },
    {
      "cell_type": "code",
      "source": [
        "l = [1, 2, 3, 4, 5] \n",
        "print('max element in the list', max(l))\n",
        "print('min element in the list', min(l))"
      ],
      "metadata": {
        "colab": {
          "base_uri": "https://localhost:8080/"
        },
        "id": "PQeKYVEWXuHw",
        "outputId": "4947d3a0-0912-4683-eb41-3bf2871badf9"
      },
      "execution_count": 2,
      "outputs": [
        {
          "output_type": "stream",
          "name": "stdout",
          "text": [
            "max element in the list 5\n",
            "min element in the list 1\n"
          ]
        }
      ]
    },
    {
      "cell_type": "markdown",
      "source": [
        "## **List Comprehensions**"
      ],
      "metadata": {
        "id": "YxmwaKXsrHy0"
      }
    },
    {
      "cell_type": "code",
      "source": [
        "double = []\n",
        "for i in range(1, 11):\n",
        "  double.append(i * 2)\n",
        "print(double)\n"
      ],
      "metadata": {
        "colab": {
          "base_uri": "https://localhost:8080/"
        },
        "id": "-_9l9YchYEew",
        "outputId": "3c707c41-e41b-45d8-a0e9-e8ff488713c0"
      },
      "execution_count": 3,
      "outputs": [
        {
          "output_type": "stream",
          "name": "stdout",
          "text": [
            "[2, 4, 6, 8, 10, 12, 14, 16, 18, 20]\n"
          ]
        }
      ]
    },
    {
      "cell_type": "code",
      "source": [
        "# Doing the same operation as previous code using List Comprehensions\n",
        "double = [i * 2 for i in range(1, 11)]\n",
        "print(double)"
      ],
      "metadata": {
        "colab": {
          "base_uri": "https://localhost:8080/"
        },
        "id": "1Vi1vc4HruTs",
        "outputId": "9a72577d-cd21-42ca-c47a-42be89e3ebff"
      },
      "execution_count": 4,
      "outputs": [
        {
          "output_type": "stream",
          "name": "stdout",
          "text": [
            "[2, 4, 6, 8, 10, 12, 14, 16, 18, 20]\n"
          ]
        }
      ]
    },
    {
      "cell_type": "code",
      "source": [
        "# Multiple of 6 in double\n",
        "six = [i for i in double if i % 3 == 0]\n",
        "print(six)"
      ],
      "metadata": {
        "colab": {
          "base_uri": "https://localhost:8080/"
        },
        "id": "DiTx4uITsPDp",
        "outputId": "b74c30d3-d62a-456e-e4e7-5c9e8d7d2285"
      },
      "execution_count": 6,
      "outputs": [
        {
          "output_type": "stream",
          "name": "stdout",
          "text": [
            "[6, 12, 18]\n"
          ]
        }
      ]
    },
    {
      "cell_type": "code",
      "source": [
        "l1 = [1, 2, 3, 4, 5]\n",
        "l2 = [6, 2, 3, 4, 10]\n",
        "# find elements in l1 that are not in l2\n",
        "dist = [i for i in l1 if i not in l2]\n",
        "print(dist)"
      ],
      "metadata": {
        "colab": {
          "base_uri": "https://localhost:8080/"
        },
        "id": "WfAs0JNnsiIO",
        "outputId": "69313f64-217d-4c8f-b77b-d4403e0a5e54"
      },
      "execution_count": 7,
      "outputs": [
        {
          "output_type": "stream",
          "name": "stdout",
          "text": [
            "[1, 5]\n"
          ]
        }
      ]
    },
    {
      "cell_type": "code",
      "source": [
        ""
      ],
      "metadata": {
        "id": "Zu6-KANKtTgW"
      },
      "execution_count": null,
      "outputs": []
    }
  ]
}