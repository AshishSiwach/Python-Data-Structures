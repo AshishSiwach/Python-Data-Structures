{
  "nbformat": 4,
  "nbformat_minor": 0,
  "metadata": {
    "colab": {
      "name": "Sets.ipynb",
      "provenance": [],
      "collapsed_sections": [],
      "authorship_tag": "ABX9TyOn/dDtHCpfLSfd/qYUGAEn",
      "include_colab_link": true
    },
    "kernelspec": {
      "name": "python3",
      "display_name": "Python 3"
    },
    "language_info": {
      "name": "python"
    }
  },
  "cells": [
    {
      "cell_type": "markdown",
      "metadata": {
        "id": "view-in-github",
        "colab_type": "text"
      },
      "source": [
        "<a href=\"https://colab.research.google.com/github/AshishSiwach/Python-Data-Structures/blob/main/Sets.ipynb\" target=\"_parent\"><img src=\"https://colab.research.google.com/assets/colab-badge.svg\" alt=\"Open In Colab\"/></a>"
      ]
    },
    {
      "cell_type": "markdown",
      "source": [
        "## **Sets**"
      ],
      "metadata": {
        "id": "hxW7JMT_Z8_7"
      }
    },
    {
      "cell_type": "code",
      "execution_count": 1,
      "metadata": {
        "colab": {
          "base_uri": "https://localhost:8080/"
        },
        "id": "Z3isYDHZZ6Uq",
        "outputId": "5ad5ca67-7df8-40be-dcee-2b0a237d574b"
      },
      "outputs": [
        {
          "output_type": "stream",
          "name": "stdout",
          "text": [
            "<class 'set'>\n"
          ]
        }
      ],
      "source": [
        "st = {'a', 'b', 'c', 'd', 'e'}\n",
        "print(type(st))"
      ]
    },
    {
      "cell_type": "code",
      "source": [
        "# set stores only unique items\n",
        "s = set([1, 2, 2, 3, 4, 4, 5])\n",
        "print(s) # duplicate items have been removed in the set output"
      ],
      "metadata": {
        "colab": {
          "base_uri": "https://localhost:8080/"
        },
        "id": "hFb-ErQ0a6Qj",
        "outputId": "f670d1d7-74e0-4376-b134-a8b11866e3e9"
      },
      "execution_count": 1,
      "outputs": [
        {
          "output_type": "stream",
          "name": "stdout",
          "text": [
            "{1, 2, 3, 4, 5}\n"
          ]
        }
      ]
    },
    {
      "cell_type": "code",
      "source": [
        "# add items to the set using add method\n",
        "s.add(6)"
      ],
      "metadata": {
        "id": "EfKq0ezbUzNg"
      },
      "execution_count": 2,
      "outputs": []
    },
    {
      "cell_type": "code",
      "source": [
        "s"
      ],
      "metadata": {
        "colab": {
          "base_uri": "https://localhost:8080/"
        },
        "id": "Xn-hTalrVI7x",
        "outputId": "89a34a9a-5905-459c-edb5-adaa3b06db16"
      },
      "execution_count": 3,
      "outputs": [
        {
          "output_type": "execute_result",
          "data": {
            "text/plain": [
              "{1, 2, 3, 4, 5, 6}"
            ]
          },
          "metadata": {},
          "execution_count": 3
        }
      ]
    },
    {
      "cell_type": "code",
      "source": [
        "s.add(7)\n",
        "print(s)"
      ],
      "metadata": {
        "colab": {
          "base_uri": "https://localhost:8080/"
        },
        "id": "vVKjkjfRVK4k",
        "outputId": "a81f5bdf-9df5-44a0-c384-e43bd5e03454"
      },
      "execution_count": 5,
      "outputs": [
        {
          "output_type": "stream",
          "name": "stdout",
          "text": [
            "{1, 2, 3, 4, 5, 6, 7}\n"
          ]
        }
      ]
    },
    {
      "cell_type": "code",
      "source": [
        "# verify if item in set or not\n",
        "1 in s"
      ],
      "metadata": {
        "colab": {
          "base_uri": "https://localhost:8080/"
        },
        "id": "uP9P4bR9VQDr",
        "outputId": "07348f5a-6676-4b9f-ffff-2db10c8d7964"
      },
      "execution_count": 6,
      "outputs": [
        {
          "output_type": "execute_result",
          "data": {
            "text/plain": [
              "True"
            ]
          },
          "metadata": {},
          "execution_count": 6
        }
      ]
    },
    {
      "cell_type": "code",
      "source": [
        "s = {'a', 'b', 'c', 'd', 'e'}\n",
        "s1 = {'a', 'f', 'c', 'g', 'h'}\n",
        "print(s)\n",
        "print(s1)"
      ],
      "metadata": {
        "colab": {
          "base_uri": "https://localhost:8080/"
        },
        "id": "5BEALTjrVdaH",
        "outputId": "4a494e5e-23b7-4178-f96b-8f7b09d05ef5"
      },
      "execution_count": 4,
      "outputs": [
        {
          "output_type": "stream",
          "name": "stdout",
          "text": [
            "{'e', 'd', 'a', 'c', 'b'}\n",
            "{'g', 'a', 'h', 'f', 'c'}\n"
          ]
        }
      ]
    },
    {
      "cell_type": "code",
      "source": [
        "# find common items in both the sets that is intersection\n",
        "intersection = s & s1\n",
        "print(intersection)\n",
        "intersection1 = s.intersection(s1)\n",
        "print(intersection1)\n",
        "# both the ways yield same result"
      ],
      "metadata": {
        "colab": {
          "base_uri": "https://localhost:8080/"
        },
        "id": "_m1XtqMUV1yw",
        "outputId": "3828b372-129e-4d29-d95e-ccf1e8297692"
      },
      "execution_count": 5,
      "outputs": [
        {
          "output_type": "stream",
          "name": "stdout",
          "text": [
            "{'c', 'a'}\n",
            "{'c', 'a'}\n"
          ]
        }
      ]
    },
    {
      "cell_type": "code",
      "source": [
        "# union of both sets\n",
        "union = s | s1\n",
        "print(union)\n",
        "union1 = s.union(s1)\n",
        "print(union1)"
      ],
      "metadata": {
        "colab": {
          "base_uri": "https://localhost:8080/"
        },
        "id": "IeZnzIYeWE7Z",
        "outputId": "dc2ff5ec-1fa8-44bb-897d-e9465f757bb3"
      },
      "execution_count": 6,
      "outputs": [
        {
          "output_type": "stream",
          "name": "stdout",
          "text": [
            "{'e', 'g', 'd', 'a', 'h', 'f', 'c', 'b'}\n",
            "{'e', 'g', 'd', 'a', 'h', 'f', 'c', 'b'}\n"
          ]
        }
      ]
    },
    {
      "cell_type": "code",
      "source": [
        "# elements present in set s and not in s1\n",
        "diff = s - s1\n",
        "print(diff)\n",
        "diff_1 = s.difference(s1)\n",
        "print(diff_1)"
      ],
      "metadata": {
        "colab": {
          "base_uri": "https://localhost:8080/"
        },
        "id": "dHwNNa8wWQYL",
        "outputId": "d4c83405-b765-47d8-dc0b-3ca660621e0e"
      },
      "execution_count": 7,
      "outputs": [
        {
          "output_type": "stream",
          "name": "stdout",
          "text": [
            "{'e', 'd', 'b'}\n",
            "{'e', 'd', 'b'}\n"
          ]
        }
      ]
    },
    {
      "cell_type": "code",
      "source": [
        "# elements present in s1 and not in s\n",
        "diff1 = s1 - s\n",
        "print(diff1)\n",
        "diff_2 = s1.difference(s)\n",
        "print(diff_2)"
      ],
      "metadata": {
        "colab": {
          "base_uri": "https://localhost:8080/"
        },
        "id": "aVtQwGMUWbtr",
        "outputId": "fbcf6969-fbe9-484e-c210-efccb29345e1"
      },
      "execution_count": 8,
      "outputs": [
        {
          "output_type": "stream",
          "name": "stdout",
          "text": [
            "{'f', 'h', 'g'}\n",
            "{'f', 'h', 'g'}\n"
          ]
        }
      ]
    },
    {
      "cell_type": "code",
      "source": [
        "# Checking subset and superset\n",
        "s2 = {'a', 'b', 'c', 'd', 'e', 'f', 'g', 'h', 'i'}\n",
        "# Check if s and s1 are subset of s2\n",
        "print(s.issubset(s2))\n",
        "print(s1.issubset(s2))\n",
        "# Check if s2 is superset of s and s1\n",
        "print(s2.issuperset(s))\n",
        "print(s2.issuperset(s1))"
      ],
      "metadata": {
        "colab": {
          "base_uri": "https://localhost:8080/"
        },
        "id": "0Y8YLg3NWj1H",
        "outputId": "c3dcca85-0699-4e45-84af-b2b00a1fcdfb"
      },
      "execution_count": 13,
      "outputs": [
        {
          "output_type": "stream",
          "name": "stdout",
          "text": [
            "True\n",
            "True\n",
            "True\n",
            "True\n"
          ]
        }
      ]
    },
    {
      "cell_type": "code",
      "source": [
        "# sum the elements of a set\n",
        "s = {1, 2, 3, 4, 5}\n",
        "print(sum(s))\n",
        "# average of elements of a set\n",
        "print(sum(s)/len(s))"
      ],
      "metadata": {
        "colab": {
          "base_uri": "https://localhost:8080/"
        },
        "id": "vsAPIOdwYF9a",
        "outputId": "757891db-a436-4e74-e4d2-e0ee410829d6"
      },
      "execution_count": 15,
      "outputs": [
        {
          "output_type": "stream",
          "name": "stdout",
          "text": [
            "15\n",
            "3.0\n"
          ]
        }
      ]
    },
    {
      "cell_type": "code",
      "source": [
        ""
      ],
      "metadata": {
        "id": "A44J72K5ZE3T"
      },
      "execution_count": null,
      "outputs": []
    }
  ]
}