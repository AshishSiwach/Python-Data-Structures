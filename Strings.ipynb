{
  "nbformat": 4,
  "nbformat_minor": 0,
  "metadata": {
    "colab": {
      "name": "Strings.ipynb",
      "provenance": [],
      "collapsed_sections": [],
      "authorship_tag": "ABX9TyNGdltqRhSdj1EUbg2kH7+w",
      "include_colab_link": true
    },
    "kernelspec": {
      "name": "python3",
      "display_name": "Python 3"
    },
    "language_info": {
      "name": "python"
    }
  },
  "cells": [
    {
      "cell_type": "markdown",
      "metadata": {
        "id": "view-in-github",
        "colab_type": "text"
      },
      "source": [
        "<a href=\"https://colab.research.google.com/github/AshishSiwach/Python-Data-Structures/blob/main/Strings.ipynb\" target=\"_parent\"><img src=\"https://colab.research.google.com/assets/colab-badge.svg\" alt=\"Open In Colab\"/></a>"
      ]
    },
    {
      "cell_type": "markdown",
      "source": [
        "## **Strings**"
      ],
      "metadata": {
        "id": "zZeRVf5HvSBs"
      }
    },
    {
      "cell_type": "code",
      "execution_count": 1,
      "metadata": {
        "colab": {
          "base_uri": "https://localhost:8080/",
          "height": 35
        },
        "id": "LwyxBtRMvO7w",
        "outputId": "a826c9b1-f6f3-4925-9606-b9ef0b0a2dd5"
      },
      "outputs": [
        {
          "output_type": "execute_result",
          "data": {
            "application/vnd.google.colaboratory.intrinsic+json": {
              "type": "string"
            },
            "text/plain": [
              "'This is the string data type'"
            ]
          },
          "metadata": {},
          "execution_count": 1
        }
      ],
      "source": [
        "str = 'This is the string data type'\n",
        "str"
      ]
    },
    {
      "cell_type": "code",
      "source": [
        "s = 'This is\\n the string\\n data type'\n",
        "print(s)\n",
        "# \\n new line character"
      ],
      "metadata": {
        "colab": {
          "base_uri": "https://localhost:8080/"
        },
        "id": "KslTALfSxIWF",
        "outputId": "79b86889-16f0-4491-8d90-161d71443035"
      },
      "execution_count": 4,
      "outputs": [
        {
          "output_type": "stream",
          "name": "stdout",
          "text": [
            "This is\n",
            " the string\n",
            " data type\n"
          ]
        }
      ]
    },
    {
      "cell_type": "code",
      "source": [
        "len(s) # length of a string"
      ],
      "metadata": {
        "colab": {
          "base_uri": "https://localhost:8080/"
        },
        "id": "Cxce5LgtxYKO",
        "outputId": "4e2b01d4-ad85-4119-8993-ea5fd503ca6a"
      },
      "execution_count": 5,
      "outputs": [
        {
          "output_type": "execute_result",
          "data": {
            "text/plain": [
              "30"
            ]
          },
          "metadata": {},
          "execution_count": 5
        }
      ]
    },
    {
      "cell_type": "code",
      "source": [
        "# Indexing in strings\n",
        "s[0] # first character in the string"
      ],
      "metadata": {
        "colab": {
          "base_uri": "https://localhost:8080/",
          "height": 35
        },
        "id": "vNNSVrGsx9WT",
        "outputId": "b08f44f4-7276-45ae-8eab-f36a217d3e88"
      },
      "execution_count": 6,
      "outputs": [
        {
          "output_type": "execute_result",
          "data": {
            "application/vnd.google.colaboratory.intrinsic+json": {
              "type": "string"
            },
            "text/plain": [
              "'T'"
            ]
          },
          "metadata": {},
          "execution_count": 6
        }
      ]
    },
    {
      "cell_type": "code",
      "source": [
        "s[-1] # last character in the string"
      ],
      "metadata": {
        "colab": {
          "base_uri": "https://localhost:8080/",
          "height": 35
        },
        "id": "Xp2R8FIpyNfH",
        "outputId": "7a760b28-051a-456c-ae25-058aa1b9d45b"
      },
      "execution_count": 7,
      "outputs": [
        {
          "output_type": "execute_result",
          "data": {
            "application/vnd.google.colaboratory.intrinsic+json": {
              "type": "string"
            },
            "text/plain": [
              "'e'"
            ]
          },
          "metadata": {},
          "execution_count": 7
        }
      ]
    },
    {
      "cell_type": "code",
      "source": [
        "# slicing strings [start: stop: stepsize]\n",
        "print(s[::-1]) # prints string in reverse order"
      ],
      "metadata": {
        "colab": {
          "base_uri": "https://localhost:8080/"
        },
        "id": "TUbeNbIdyW6m",
        "outputId": "ebb7bb1b-42ae-471f-fe66-238d84bed26a"
      },
      "execution_count": 9,
      "outputs": [
        {
          "output_type": "stream",
          "name": "stdout",
          "text": [
            "epyt atad \n",
            "gnirts eht \n",
            "si sihT\n"
          ]
        }
      ]
    },
    {
      "cell_type": "code",
      "source": [
        "print(s[::])"
      ],
      "metadata": {
        "colab": {
          "base_uri": "https://localhost:8080/"
        },
        "id": "cl9Y0QfByrVq",
        "outputId": "8f128ecd-5ce6-4c9d-f0e2-f1dfb089e8e0"
      },
      "execution_count": 10,
      "outputs": [
        {
          "output_type": "stream",
          "name": "stdout",
          "text": [
            "This is\n",
            " the string\n",
            " data type\n"
          ]
        }
      ]
    },
    {
      "cell_type": "code",
      "source": [
        "print(s[1:4:1]) # access string from 1st element till 4th element"
      ],
      "metadata": {
        "colab": {
          "base_uri": "https://localhost:8080/"
        },
        "id": "1yxRK_XKy33V",
        "outputId": "2f4994c6-d7c2-418e-c8a8-4459cb8f1b8a"
      },
      "execution_count": 12,
      "outputs": [
        {
          "output_type": "stream",
          "name": "stdout",
          "text": [
            "his\n"
          ]
        }
      ]
    },
    {
      "cell_type": "code",
      "source": [
        "print(s[::2]) # access every second character"
      ],
      "metadata": {
        "colab": {
          "base_uri": "https://localhost:8080/"
        },
        "id": "uHmLtGYVy_6l",
        "outputId": "989f0ff3-ae37-461b-bdb9-9821035b6aee"
      },
      "execution_count": 13,
      "outputs": [
        {
          "output_type": "stream",
          "name": "stdout",
          "text": [
            "Ti s h tig aatp\n"
          ]
        }
      ]
    },
    {
      "cell_type": "code",
      "source": [
        "print(s[-4::]) # access last 4 elements"
      ],
      "metadata": {
        "colab": {
          "base_uri": "https://localhost:8080/"
        },
        "id": "KoDzZnZSzXy0",
        "outputId": "2d506e94-ca7a-4e43-b750-afd1dd5c60cb"
      },
      "execution_count": 15,
      "outputs": [
        {
          "output_type": "stream",
          "name": "stdout",
          "text": [
            "type\n"
          ]
        }
      ]
    },
    {
      "cell_type": "code",
      "source": [
        "print(s[-3:-1]) # access elements 3rd last and 2nd last"
      ],
      "metadata": {
        "colab": {
          "base_uri": "https://localhost:8080/"
        },
        "id": "ogbdtbO8zrer",
        "outputId": "52143fb8-10a6-4f16-ab9a-1578c2a2429b"
      },
      "execution_count": 17,
      "outputs": [
        {
          "output_type": "stream",
          "name": "stdout",
          "text": [
            "yp\n"
          ]
        }
      ]
    },
    {
      "cell_type": "code",
      "source": [
        "# String repetition\n",
        "str = 'abc'\n",
        "print(str * 3)"
      ],
      "metadata": {
        "colab": {
          "base_uri": "https://localhost:8080/"
        },
        "id": "-AJZYPZr0Jri",
        "outputId": "fb5432c1-6b26-4540-e0c1-81894976f697"
      },
      "execution_count": 18,
      "outputs": [
        {
          "output_type": "stream",
          "name": "stdout",
          "text": [
            "abcabcabc\n"
          ]
        }
      ]
    },
    {
      "cell_type": "code",
      "source": [
        "# String concatenation\n",
        "str1 = 'python'\n",
        "str2 = 'string'\n",
        "str3 = 'data type'\n",
        "print(str1 + str2 + str3)"
      ],
      "metadata": {
        "colab": {
          "base_uri": "https://localhost:8080/"
        },
        "id": "fLXfgWvM0trZ",
        "outputId": "3f0a9272-dfd4-4822-ee82-45e4808aeef4"
      },
      "execution_count": 19,
      "outputs": [
        {
          "output_type": "stream",
          "name": "stdout",
          "text": [
            "pythonstringdata type\n"
          ]
        }
      ]
    },
    {
      "cell_type": "code",
      "source": [
        "str = ' Python for Data Science '\n",
        "# remove white spaces from both sides\n",
        "str.strip()"
      ],
      "metadata": {
        "colab": {
          "base_uri": "https://localhost:8080/",
          "height": 35
        },
        "id": "xcgj2zr_1IYP",
        "outputId": "8098d370-7e71-4329-c772-ed42e427140b"
      },
      "execution_count": 22,
      "outputs": [
        {
          "output_type": "execute_result",
          "data": {
            "application/vnd.google.colaboratory.intrinsic+json": {
              "type": "string"
            },
            "text/plain": [
              "'Python for Data Science'"
            ]
          },
          "metadata": {},
          "execution_count": 22
        }
      ]
    },
    {
      "cell_type": "code",
      "source": [
        "str = 'Python for Data Science '\n",
        "# remove whitespace from right\n",
        "str.rstrip()"
      ],
      "metadata": {
        "colab": {
          "base_uri": "https://localhost:8080/",
          "height": 35
        },
        "id": "9BzIB02L1SQZ",
        "outputId": "2dded2d2-03b9-492b-9399-d328dd5c817d"
      },
      "execution_count": 23,
      "outputs": [
        {
          "output_type": "execute_result",
          "data": {
            "application/vnd.google.colaboratory.intrinsic+json": {
              "type": "string"
            },
            "text/plain": [
              "'Python for Data Science'"
            ]
          },
          "metadata": {},
          "execution_count": 23
        }
      ]
    },
    {
      "cell_type": "code",
      "source": [
        "str = ' Python for Data Science'\n",
        "# remove whitespace from left\n",
        "str.lstrip()"
      ],
      "metadata": {
        "colab": {
          "base_uri": "https://localhost:8080/",
          "height": 35
        },
        "id": "gmjIBc-S2w4_",
        "outputId": "4fc64d07-45a5-4fc8-af21-4c860fb05aed"
      },
      "execution_count": 24,
      "outputs": [
        {
          "output_type": "execute_result",
          "data": {
            "application/vnd.google.colaboratory.intrinsic+json": {
              "type": "string"
            },
            "text/plain": [
              "'Python for Data Science'"
            ]
          },
          "metadata": {},
          "execution_count": 24
        }
      ]
    },
    {
      "cell_type": "code",
      "source": [
        "# String replacement\n",
        "st = 'This is the string data type'\n",
        "st1 = st.replace('string', 'python')\n",
        "st1"
      ],
      "metadata": {
        "colab": {
          "base_uri": "https://localhost:8080/",
          "height": 35
        },
        "id": "hOUiwfZV3ErK",
        "outputId": "e0d0590d-7ebc-44db-9ba5-2746a52a5246"
      },
      "execution_count": 25,
      "outputs": [
        {
          "output_type": "execute_result",
          "data": {
            "application/vnd.google.colaboratory.intrinsic+json": {
              "type": "string"
            },
            "text/plain": [
              "'This is the python data type'"
            ]
          },
          "metadata": {},
          "execution_count": 25
        }
      ]
    },
    {
      "cell_type": "code",
      "source": [
        "# Strings splitting and joining\n",
        "s = 'string, list, tuples, dictionary, sets'\n",
        "s.split(',') # returns a list of strings"
      ],
      "metadata": {
        "colab": {
          "base_uri": "https://localhost:8080/"
        },
        "id": "u4O1XnqI4ftI",
        "outputId": "8f443dcf-38f5-46db-8d1e-f6e0e4d893b5"
      },
      "execution_count": 26,
      "outputs": [
        {
          "output_type": "execute_result",
          "data": {
            "text/plain": [
              "['string', ' list', ' tuples', ' dictionary', ' sets']"
            ]
          },
          "metadata": {},
          "execution_count": 26
        }
      ]
    },
    {
      "cell_type": "code",
      "source": [
        "st = 'This is the string data type'\n",
        "st.split(' ') # split on space"
      ],
      "metadata": {
        "colab": {
          "base_uri": "https://localhost:8080/"
        },
        "id": "Ul_9Xzej-ngd",
        "outputId": "cdbd5b46-3696-4e10-e5bc-501bed33b9f9"
      },
      "execution_count": 27,
      "outputs": [
        {
          "output_type": "execute_result",
          "data": {
            "text/plain": [
              "['This', 'is', 'the', 'string', 'data', 'type']"
            ]
          },
          "metadata": {},
          "execution_count": 27
        }
      ]
    },
    {
      "cell_type": "code",
      "source": [
        "l = ['s', 't', 'r', 'i', 'n', 'g']\n",
        "s = '-'.join(l) # joins list or tuple elements on a separator which here is -\n",
        "s"
      ],
      "metadata": {
        "colab": {
          "base_uri": "https://localhost:8080/",
          "height": 35
        },
        "id": "PpbaTMEZ-5ZY",
        "outputId": "9600c6e4-b780-450d-b17f-2264d94d5988"
      },
      "execution_count": 28,
      "outputs": [
        {
          "output_type": "execute_result",
          "data": {
            "application/vnd.google.colaboratory.intrinsic+json": {
              "type": "string"
            },
            "text/plain": [
              "'s-t-r-i-n-g'"
            ]
          },
          "metadata": {},
          "execution_count": 28
        }
      ]
    },
    {
      "cell_type": "markdown",
      "source": [
        "## Operation on Strings"
      ],
      "metadata": {
        "id": "Rp-C2rCJ_14z"
      }
    },
    {
      "cell_type": "code",
      "source": [
        "st = 'This is the string data type'\n",
        "print('lower case')\n",
        "print(st.lower())\n",
        "print('upper case')\n",
        "print(st.upper())\n",
        "print('Change case of a string') # Makes lower case letters uppercase and uppercase letters lowercase\n",
        "print(st.swapcase())\n",
        "print('Make first character of a word capital')\n",
        "print(st.title())"
      ],
      "metadata": {
        "colab": {
          "base_uri": "https://localhost:8080/"
        },
        "id": "E-pUOQC2_ZqN",
        "outputId": "694161b5-2598-4bdb-a652-e53396d1c817"
      },
      "execution_count": 30,
      "outputs": [
        {
          "output_type": "stream",
          "name": "stdout",
          "text": [
            "lower case\n",
            "this is the string data type\n",
            "upper case\n",
            "THIS IS THE STRING DATA TYPE\n",
            "Change case of a string\n",
            "tHIS IS THE STRING DATA TYPE\n",
            "Make first character of a word capital\n",
            "This Is The String Data Type\n"
          ]
        }
      ]
    },
    {
      "cell_type": "code",
      "source": [
        "# Find a substring\n",
        "name = 'Python'\n",
        "name.find('yt') # returns index of starting character"
      ],
      "metadata": {
        "colab": {
          "base_uri": "https://localhost:8080/"
        },
        "id": "O49sOzaMAlIu",
        "outputId": "377526ec-b5ed-4d3c-b145-8be29e174746"
      },
      "execution_count": 31,
      "outputs": [
        {
          "output_type": "execute_result",
          "data": {
            "text/plain": [
              "1"
            ]
          },
          "metadata": {},
          "execution_count": 31
        }
      ]
    },
    {
      "cell_type": "code",
      "source": [
        "name.find('hon')"
      ],
      "metadata": {
        "colab": {
          "base_uri": "https://localhost:8080/"
        },
        "id": "wk_UQvxPBpXc",
        "outputId": "fa22ef5c-21cd-4ad9-90a1-07a190da7b57"
      },
      "execution_count": 32,
      "outputs": [
        {
          "output_type": "execute_result",
          "data": {
            "text/plain": [
              "3"
            ]
          },
          "metadata": {},
          "execution_count": 32
        }
      ]
    },
    {
      "cell_type": "code",
      "source": [
        "name.find('sci') # returns -1 if substring not found"
      ],
      "metadata": {
        "colab": {
          "base_uri": "https://localhost:8080/"
        },
        "id": "jOa4mszbB1q6",
        "outputId": "2505cf26-63f6-4aa4-a99a-1f8613149299"
      },
      "execution_count": 33,
      "outputs": [
        {
          "output_type": "execute_result",
          "data": {
            "text/plain": [
              "-1"
            ]
          },
          "metadata": {},
          "execution_count": 33
        }
      ]
    },
    {
      "cell_type": "code",
      "source": [
        "name.find('ho', 0, len(name)) # find substring from beginning to the end"
      ],
      "metadata": {
        "colab": {
          "base_uri": "https://localhost:8080/"
        },
        "id": "uV9KBwiIB591",
        "outputId": "a6e5cb6c-e6cd-4d16-f3b0-036e1e5add69"
      },
      "execution_count": 34,
      "outputs": [
        {
          "output_type": "execute_result",
          "data": {
            "text/plain": [
              "3"
            ]
          },
          "metadata": {},
          "execution_count": 34
        }
      ]
    },
    {
      "cell_type": "code",
      "source": [
        "name.index('yt') # returns index of the first character in the substring"
      ],
      "metadata": {
        "colab": {
          "base_uri": "https://localhost:8080/"
        },
        "id": "Q9a7QMfCCXEt",
        "outputId": "00c1e8ab-45fc-4fa1-beb3-0bfe1b307f87"
      },
      "execution_count": 36,
      "outputs": [
        {
          "output_type": "execute_result",
          "data": {
            "text/plain": [
              "1"
            ]
          },
          "metadata": {},
          "execution_count": 36
        }
      ]
    },
    {
      "cell_type": "code",
      "source": [
        "# count of substring in a string\n",
        "s = 'Mississippi'\n",
        "s.count('s')"
      ],
      "metadata": {
        "colab": {
          "base_uri": "https://localhost:8080/"
        },
        "id": "V-Pm-bgOChYZ",
        "outputId": "85da83a8-5e93-43b7-d392-12697f9b30e2"
      },
      "execution_count": 38,
      "outputs": [
        {
          "output_type": "execute_result",
          "data": {
            "text/plain": [
              "4"
            ]
          },
          "metadata": {},
          "execution_count": 38
        }
      ]
    },
    {
      "cell_type": "code",
      "source": [
        "s.count('i')"
      ],
      "metadata": {
        "colab": {
          "base_uri": "https://localhost:8080/"
        },
        "id": "VpzWwsMbCv0_",
        "outputId": "ce45d9e1-20e7-4900-b0b6-469225e18551"
      },
      "execution_count": 39,
      "outputs": [
        {
          "output_type": "execute_result",
          "data": {
            "text/plain": [
              "4"
            ]
          },
          "metadata": {},
          "execution_count": 39
        }
      ]
    },
    {
      "cell_type": "code",
      "source": [
        "s.count('p')"
      ],
      "metadata": {
        "colab": {
          "base_uri": "https://localhost:8080/"
        },
        "id": "4sNr2-eAEqvM",
        "outputId": "2317d265-9537-466a-c85f-ac7f4f06fd09"
      },
      "execution_count": 40,
      "outputs": [
        {
          "output_type": "execute_result",
          "data": {
            "text/plain": [
              "2"
            ]
          },
          "metadata": {},
          "execution_count": 40
        }
      ]
    },
    {
      "cell_type": "code",
      "source": [
        "# format method in a string\n",
        "'Hey this is {} the {} data type'.format('string', 'python')"
      ],
      "metadata": {
        "colab": {
          "base_uri": "https://localhost:8080/",
          "height": 35
        },
        "id": "z89xYXjCEtSi",
        "outputId": "3b1b1f88-b8c0-4f5e-e3ad-fc8732799b99"
      },
      "execution_count": 41,
      "outputs": [
        {
          "output_type": "execute_result",
          "data": {
            "application/vnd.google.colaboratory.intrinsic+json": {
              "type": "string"
            },
            "text/plain": [
              "'Hey this is string the python data type'"
            ]
          },
          "metadata": {},
          "execution_count": 41
        }
      ]
    },
    {
      "cell_type": "code",
      "source": [
        "name = 'Sundar Pichai'\n",
        "designation = 'CEO'\n",
        "company = 'Google'\n",
        "'{} is the {} of {}'.format(name, designation, company)"
      ],
      "metadata": {
        "colab": {
          "base_uri": "https://localhost:8080/",
          "height": 35
        },
        "id": "bqQIyjP-FJ5Q",
        "outputId": "cb721832-9c40-4a77-fef5-37db1fef4718"
      },
      "execution_count": 42,
      "outputs": [
        {
          "output_type": "execute_result",
          "data": {
            "application/vnd.google.colaboratory.intrinsic+json": {
              "type": "string"
            },
            "text/plain": [
              "'Sundar Pichai is the CEO of Google'"
            ]
          },
          "metadata": {},
          "execution_count": 42
        }
      ]
    },
    {
      "cell_type": "code",
      "source": [
        "# F string also helps to do what format does\n",
        "name = 'Sundar Pichai'\n",
        "designation = 'CEO'\n",
        "company = 'Google'\n",
        "f'{name} is the {designation} of {company}'"
      ],
      "metadata": {
        "colab": {
          "base_uri": "https://localhost:8080/",
          "height": 35
        },
        "id": "4KQMQ2czFj96",
        "outputId": "eb5422fb-beab-471f-a54f-bdebb3bd6efc"
      },
      "execution_count": 43,
      "outputs": [
        {
          "output_type": "execute_result",
          "data": {
            "application/vnd.google.colaboratory.intrinsic+json": {
              "type": "string"
            },
            "text/plain": [
              "'Sundar Pichai is the CEO of Google'"
            ]
          },
          "metadata": {},
          "execution_count": 43
        }
      ]
    },
    {
      "cell_type": "code",
      "source": [
        "# Sorting a string\n",
        "s = 'adebfc'\n",
        "s1 = sorted(s)\n",
        "s1"
      ],
      "metadata": {
        "colab": {
          "base_uri": "https://localhost:8080/"
        },
        "id": "KASNft7PGDAc",
        "outputId": "f1735e5b-005f-4e47-bad2-e939544ca68f"
      },
      "execution_count": 47,
      "outputs": [
        {
          "output_type": "execute_result",
          "data": {
            "text/plain": [
              "['a', 'b', 'c', 'd', 'e', 'f']"
            ]
          },
          "metadata": {},
          "execution_count": 47
        }
      ]
    },
    {
      "cell_type": "code",
      "source": [
        "s = 'Cricket'\n",
        "s1 = sorted(s)\n",
        "s1"
      ],
      "metadata": {
        "colab": {
          "base_uri": "https://localhost:8080/"
        },
        "id": "t0__1VWRGy0l",
        "outputId": "68e25ab8-fb82-40fd-d9f2-3c8b24c89de6"
      },
      "execution_count": 48,
      "outputs": [
        {
          "output_type": "execute_result",
          "data": {
            "text/plain": [
              "['C', 'c', 'e', 'i', 'k', 'r', 't']"
            ]
          },
          "metadata": {},
          "execution_count": 48
        }
      ]
    },
    {
      "cell_type": "code",
      "source": [
        "# accessing elements of a string using for loop\n",
        "for i in s:\n",
        "  print(i)"
      ],
      "metadata": {
        "colab": {
          "base_uri": "https://localhost:8080/"
        },
        "id": "SzrLWDgRHm8J",
        "outputId": "c391e482-ccca-4854-f6d8-92e5d3cfc807"
      },
      "execution_count": 49,
      "outputs": [
        {
          "output_type": "stream",
          "name": "stdout",
          "text": [
            "C\n",
            "r\n",
            "i\n",
            "c\n",
            "k\n",
            "e\n",
            "t\n"
          ]
        }
      ]
    },
    {
      "cell_type": "code",
      "source": [
        "for i in range(len(s)):\n",
        "  print(s[i])"
      ],
      "metadata": {
        "colab": {
          "base_uri": "https://localhost:8080/"
        },
        "id": "8vkPH3EWIQwM",
        "outputId": "5dc4b2b2-6560-42bc-8c05-9e29a68b60bd"
      },
      "execution_count": 50,
      "outputs": [
        {
          "output_type": "stream",
          "name": "stdout",
          "text": [
            "C\n",
            "r\n",
            "i\n",
            "c\n",
            "k\n",
            "e\n",
            "t\n"
          ]
        }
      ]
    },
    {
      "cell_type": "code",
      "source": [
        ""
      ],
      "metadata": {
        "id": "Z5EIpijAIWnn"
      },
      "execution_count": null,
      "outputs": []
    }
  ]
}