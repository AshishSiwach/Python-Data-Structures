{
  "nbformat": 4,
  "nbformat_minor": 0,
  "metadata": {
    "colab": {
      "name": "Dictionaries.ipynb",
      "provenance": [],
      "collapsed_sections": [],
      "authorship_tag": "ABX9TyNVcZjdMNE0j6OPtmfsqK0l",
      "include_colab_link": true
    },
    "kernelspec": {
      "name": "python3",
      "display_name": "Python 3"
    },
    "language_info": {
      "name": "python"
    }
  },
  "cells": [
    {
      "cell_type": "markdown",
      "metadata": {
        "id": "view-in-github",
        "colab_type": "text"
      },
      "source": [
        "<a href=\"https://colab.research.google.com/github/AshishSiwach/Python-Data-Structures/blob/main/Dictionaries.ipynb\" target=\"_parent\"><img src=\"https://colab.research.google.com/assets/colab-badge.svg\" alt=\"Open In Colab\"/></a>"
      ]
    },
    {
      "cell_type": "markdown",
      "source": [
        "## **Dictionaries**"
      ],
      "metadata": {
        "id": "DQGP9ni6Dm-w"
      }
    },
    {
      "cell_type": "code",
      "execution_count": 1,
      "metadata": {
        "colab": {
          "base_uri": "https://localhost:8080/"
        },
        "id": "53sfUd3IDkFX",
        "outputId": "9f258b00-bfac-4f4e-d524-b24f33162905"
      },
      "outputs": [
        {
          "output_type": "stream",
          "name": "stdout",
          "text": [
            "<class 'dict'>\n",
            "<class 'dict'>\n"
          ]
        }
      ],
      "source": [
        "d = {}\n",
        "d1 = dict()\n",
        "print(type(d))\n",
        "print(type(d1))"
      ]
    },
    {
      "cell_type": "code",
      "source": [
        "d2 = {'spam' : 1, 'non spam' : 0}\n",
        "print(d2)"
      ],
      "metadata": {
        "colab": {
          "base_uri": "https://localhost:8080/"
        },
        "id": "aW7NmhH-EHdf",
        "outputId": "9186d97c-0445-47a5-f663-71d83010ab5b"
      },
      "execution_count": 2,
      "outputs": [
        {
          "output_type": "stream",
          "name": "stdout",
          "text": [
            "{'spam': 1, 'non spam': 0}\n"
          ]
        }
      ]
    },
    {
      "cell_type": "code",
      "source": [
        "# Nested dictionary\n",
        "d_n = {'Sports' : {'Cricket' : 0, 'Football' : 1, 'Basketball' : 2, 'Tennis' : 3}}\n",
        "print('nested dictionary: ', d_n)\n",
        "# Indexing in dictionary using keys\n",
        "print(d_n['Sports'])\n",
        "print(d_n['Sports']['Cricket'])\n",
        "# length of a dictionary.. number of key value pairs\n",
        "d3 = {'Cricket' : 0, 'Football' : 1, 'Basketball' : 2, 'Tennis' : 3}\n",
        "print('len of d_n', len(d_n))\n",
        "print('len of d3', len(d3))\n",
        "# Insert a new key value pair in a dictionary\n",
        "d3['Table Tennis'] = 4\n",
        "d3['Badminton'] = 5\n",
        "d3['Volleyball'] = 6\n",
        "print('Updated d3', d3)\n",
        "# delete volleyball id\n",
        "del d3['Volleyball']\n",
        "print('updated d3 after deleting volleyball key', d3)"
      ],
      "metadata": {
        "colab": {
          "base_uri": "https://localhost:8080/"
        },
        "id": "RGdT37ayEcr2",
        "outputId": "36809171-d667-4ddb-bb19-19385ab06465"
      },
      "execution_count": 3,
      "outputs": [
        {
          "output_type": "stream",
          "name": "stdout",
          "text": [
            "nested dictionary:  {'Sports': {'Cricket': 0, 'Football': 1, 'Basketball': 2, 'Tennis': 3}}\n",
            "{'Cricket': 0, 'Football': 1, 'Basketball': 2, 'Tennis': 3}\n",
            "0\n",
            "len of d_n 1\n",
            "len of d3 4\n",
            "Updated d3 {'Cricket': 0, 'Football': 1, 'Basketball': 2, 'Tennis': 3, 'Table Tennis': 4, 'Badminton': 5, 'Volleyball': 6}\n",
            "updated d3 after deleting volleyball key {'Cricket': 0, 'Football': 1, 'Basketball': 2, 'Tennis': 3, 'Table Tennis': 4, 'Badminton': 5}\n"
          ]
        }
      ]
    },
    {
      "cell_type": "code",
      "source": [
        "# dictionary methods\n",
        "d4 = d3.copy()\n",
        "print(d4)\n",
        "print('value associated with the key',d4.get('Cricket')) # returns value associated with the key given in get method\n",
        "print('return key value pairs in the dictionary', d4.items())\n",
        "print('get keys of a dictionary', d4.keys())\n",
        "print('get values of a dictionary', d4.values())\n",
        "d5 = {'Golf' : 6, 'Baseball' : 7}\n",
        "d4.update(d5) # add all elements from dictionary d5 to d4\n",
        "print('updated dictionary d4', d4)\n",
        "print('remove key and its value from dictionary and return the value ', d4.pop('Baseball'))\n",
        "print('d4 new', d4)"
      ],
      "metadata": {
        "colab": {
          "base_uri": "https://localhost:8080/"
        },
        "id": "slcOHpR3Mm-e",
        "outputId": "95adda97-3ecc-4b48-e6b2-0001f2f9cf85"
      },
      "execution_count": 5,
      "outputs": [
        {
          "output_type": "stream",
          "name": "stdout",
          "text": [
            "{'Cricket': 0, 'Football': 1, 'Basketball': 2, 'Tennis': 3, 'Table Tennis': 4, 'Badminton': 5}\n",
            "value associated with the key 0\n",
            "return key value pairs in the dictionary dict_items([('Cricket', 0), ('Football', 1), ('Basketball', 2), ('Tennis', 3), ('Table Tennis', 4), ('Badminton', 5)])\n",
            "get keys of a dictionary dict_keys(['Cricket', 'Football', 'Basketball', 'Tennis', 'Table Tennis', 'Badminton'])\n",
            "get values of a dictionary dict_values([0, 1, 2, 3, 4, 5])\n",
            "updated dictionary d4 {'Cricket': 0, 'Football': 1, 'Basketball': 2, 'Tennis': 3, 'Table Tennis': 4, 'Badminton': 5, 'Golf': 6, 'Baseball': 7}\n",
            "remove key and its value from dictionary and return the value  7\n",
            "d4 new {'Cricket': 0, 'Football': 1, 'Basketball': 2, 'Tennis': 3, 'Table Tennis': 4, 'Badminton': 5, 'Golf': 6}\n"
          ]
        }
      ]
    },
    {
      "cell_type": "code",
      "source": [
        "# sum all the values of a dictionary\n",
        "print(sum(d4.values()))"
      ],
      "metadata": {
        "colab": {
          "base_uri": "https://localhost:8080/"
        },
        "id": "7AxYCpRQO8Lq",
        "outputId": "792443bc-dba8-48d9-ab47-a52ce8da9ac3"
      },
      "execution_count": 8,
      "outputs": [
        {
          "output_type": "stream",
          "name": "stdout",
          "text": [
            "21\n"
          ]
        }
      ]
    },
    {
      "cell_type": "code",
      "source": [
        "# accessing dictionary using for loop\n",
        "for k, v in d4.items():\n",
        "  print(f'{k} has a value of {v}')"
      ],
      "metadata": {
        "colab": {
          "base_uri": "https://localhost:8080/"
        },
        "id": "3fiHoSbaPweA",
        "outputId": "b8a524d4-1d30-4017-9c2a-68d05d90a7a7"
      },
      "execution_count": 9,
      "outputs": [
        {
          "output_type": "stream",
          "name": "stdout",
          "text": [
            "Cricket has a value of 0\n",
            "Football has a value of 1\n",
            "Basketball has a value of 2\n",
            "Tennis has a value of 3\n",
            "Table Tennis has a value of 4\n",
            "Badminton has a value of 5\n",
            "Golf has a value of 6\n"
          ]
        }
      ]
    },
    {
      "cell_type": "code",
      "source": [
        "d4.get('Volleyball', 'Not Found') # if key volleyball is found then return its value else return Not Found"
      ],
      "metadata": {
        "colab": {
          "base_uri": "https://localhost:8080/",
          "height": 35
        },
        "id": "YaUeUd-XVVcn",
        "outputId": "1a248cf8-134f-4236-9fa5-f1b873a1ad62"
      },
      "execution_count": 10,
      "outputs": [
        {
          "output_type": "execute_result",
          "data": {
            "application/vnd.google.colaboratory.intrinsic+json": {
              "type": "string"
            },
            "text/plain": [
              "'Not Found'"
            ]
          },
          "metadata": {},
          "execution_count": 10
        }
      ]
    },
    {
      "cell_type": "code",
      "source": [
        "# Converting lists into dictionary\n",
        "Sports = ['Cricket', 'Football', 'Tennis', 'Basketball']\n",
        "Players = ['Sachin Tendulkar', 'Ronaldo', 'Rafael Nadal', 'Kobe Bryant']\n",
        "d = dict(zip(Sports, Players))\n",
        "# zip returns a zip object where items with corresponding indices from both the containers would become key value pair in dict\n",
        "print(d)"
      ],
      "metadata": {
        "colab": {
          "base_uri": "https://localhost:8080/"
        },
        "id": "56cpnbKHV1xA",
        "outputId": "6fd6a622-2472-4a01-ad6d-86f62186b247"
      },
      "execution_count": 11,
      "outputs": [
        {
          "output_type": "stream",
          "name": "stdout",
          "text": [
            "{'Cricket': 'Sachin Tendulkar', 'Football': 'Ronaldo', 'Tennis': 'Rafael Nadal', 'Basketball': 'Kobe Bryant'}\n"
          ]
        }
      ]
    },
    {
      "cell_type": "code",
      "source": [
        "from collections import OrderedDict\n",
        "d1 = OrderedDict() # create an ordered dictionary where key value pair will remain in the order as they are entered\n",
        "d1['a'] = 1\n",
        "d1['b'] = 2\n",
        "d1['c'] = 3\n",
        "d1['d'] = 4\n",
        "print(d1)"
      ],
      "metadata": {
        "colab": {
          "base_uri": "https://localhost:8080/"
        },
        "id": "S05nmLeUXtk_",
        "outputId": "72a45d13-061c-4abc-a4e4-f55b9f9d66a5"
      },
      "execution_count": 13,
      "outputs": [
        {
          "output_type": "stream",
          "name": "stdout",
          "text": [
            "OrderedDict([('a', 1), ('b', 2), ('c', 3), ('d', 4)])\n"
          ]
        }
      ]
    },
    {
      "cell_type": "code",
      "source": [
        ""
      ],
      "metadata": {
        "id": "MicODE0IY10r"
      },
      "execution_count": null,
      "outputs": []
    }
  ]
}