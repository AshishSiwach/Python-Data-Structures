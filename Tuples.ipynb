{
  "nbformat": 4,
  "nbformat_minor": 0,
  "metadata": {
    "colab": {
      "name": "Tuples.ipynb",
      "provenance": [],
      "collapsed_sections": [],
      "authorship_tag": "ABX9TyOHCGRvc99MYvvsNEIeLQMk",
      "include_colab_link": true
    },
    "kernelspec": {
      "name": "python3",
      "display_name": "Python 3"
    },
    "language_info": {
      "name": "python"
    }
  },
  "cells": [
    {
      "cell_type": "markdown",
      "metadata": {
        "id": "view-in-github",
        "colab_type": "text"
      },
      "source": [
        "<a href=\"https://colab.research.google.com/github/AshishSiwach/Python-Data-Structures/blob/main/Tuples.ipynb\" target=\"_parent\"><img src=\"https://colab.research.google.com/assets/colab-badge.svg\" alt=\"Open In Colab\"/></a>"
      ]
    },
    {
      "cell_type": "markdown",
      "source": [
        "## **Tuples**"
      ],
      "metadata": {
        "id": "svKqBEFy6HHo"
      }
    },
    {
      "cell_type": "code",
      "execution_count": 2,
      "metadata": {
        "colab": {
          "base_uri": "https://localhost:8080/"
        },
        "id": "Y_y0YhQw6DlJ",
        "outputId": "b7772e38-b05f-4e16-f645-480663e2bd31"
      },
      "outputs": [
        {
          "output_type": "stream",
          "name": "stdout",
          "text": [
            "empty tuple ()\n",
            "<class 'tuple'>\n",
            "(1, 2, 3, 4)\n",
            "<class 'tuple'>\n"
          ]
        }
      ],
      "source": [
        "emp_t = ()\n",
        "print('empty tuple',emp_t)\n",
        "print(type(emp_t))\n",
        "t = (1, 2, 3, 4)\n",
        "print(t)\n",
        "print(type(t))"
      ]
    },
    {
      "cell_type": "code",
      "source": [
        "n_t = (1, 2,(1, 4)) # nested tuple\n",
        "print(n_t)\n",
        "# tuple indexing\n",
        "print('tuple indexing')\n",
        "print(n_t[0])\n",
        "print(n_t[-1][1])\n",
        "# tuple slicing\n",
        "print('tuple slicing')\n",
        "print(n_t[:2])\n",
        "print(n_t[-2:-1])\n",
        "# length of a tuple\n",
        "print('length of a tuple: ',len(n_t))\n",
        "# concatenating tuples\n",
        "t1 = (9, 3, 36)\n",
        "t2 = n_t + t1\n",
        "print('concatenated tuple',t2)\n",
        "# tuple repetition\n",
        "print('tuple repetition')\n",
        "print(t2 * 2)\n",
        "# min and max values in the tuple\n",
        "print('min value in a tuple',min(t1))\n",
        "print('max value in a tuple',max(t1))\n",
        "# sorting the tuple\n",
        "print('tuple sorted',sorted(t1))\n",
        "print('tuple sorted in reverse order', sorted(t1, reverse = True))"
      ],
      "metadata": {
        "colab": {
          "base_uri": "https://localhost:8080/"
        },
        "id": "EnRFDj1a7Xit",
        "outputId": "fae10e0c-92cb-4f46-b305-016aff37c39b"
      },
      "execution_count": 6,
      "outputs": [
        {
          "output_type": "stream",
          "name": "stdout",
          "text": [
            "(1, 2, (1, 4))\n",
            "tuple indexing\n",
            "1\n",
            "4\n",
            "tuple slicing\n",
            "(1, 2)\n",
            "(2,)\n",
            "length of a tuple:  3\n",
            "concatenated tuple (1, 2, (1, 4), 9, 3, 36)\n",
            "tuple repetition\n",
            "(1, 2, (1, 4), 9, 3, 36, 1, 2, (1, 4), 9, 3, 36)\n",
            "min value in a tuple 3\n",
            "max value in a tuple 36\n",
            "tuple sorted [3, 9, 36]\n",
            "tuple sorted in reverse order [36, 9, 3]\n"
          ]
        }
      ]
    },
    {
      "cell_type": "code",
      "source": [
        "# average of items in tuple t1\n",
        "print('average of items in tuple t1', sum(t1)/len(t1))"
      ],
      "metadata": {
        "colab": {
          "base_uri": "https://localhost:8080/"
        },
        "id": "Xzup6Qwx9twv",
        "outputId": "5673c792-2260-4636-91f8-7aa74ea58696"
      },
      "execution_count": 7,
      "outputs": [
        {
          "output_type": "stream",
          "name": "stdout",
          "text": [
            "average of items in tuple t1 16.0\n"
          ]
        }
      ]
    },
    {
      "cell_type": "code",
      "source": [
        "# update item at index 1 in t1\n",
        "y = t1[0:1]\n",
        "t1_updated = y + (45, 36)\n",
        "print(t1_updated)"
      ],
      "metadata": {
        "colab": {
          "base_uri": "https://localhost:8080/"
        },
        "id": "hlYWRJvY-src",
        "outputId": "4f33a3e3-1e59-4fdf-ff26-8ffbbd209fb1"
      },
      "execution_count": 9,
      "outputs": [
        {
          "output_type": "stream",
          "name": "stdout",
          "text": [
            "(9, 45, 36)\n"
          ]
        }
      ]
    },
    {
      "cell_type": "code",
      "source": [
        ""
      ],
      "metadata": {
        "id": "MuWwwBnPBzAJ"
      },
      "execution_count": null,
      "outputs": []
    }
  ]
}